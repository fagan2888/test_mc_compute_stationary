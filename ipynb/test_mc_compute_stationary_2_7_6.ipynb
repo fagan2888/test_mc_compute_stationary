{
 "metadata": {
  "name": ""
 },
 "nbformat": 3,
 "nbformat_minor": 0,
 "worksheets": [
  {
   "cells": [
    {
     "cell_type": "code",
     "collapsed": false,
     "input": [
      "import platform\n",
      "platform.platform()"
     ],
     "language": "python",
     "metadata": {},
     "outputs": [
      {
       "metadata": {},
       "output_type": "pyout",
       "prompt_number": 1,
       "text": [
        "'Darwin-10.8.0-i386-64bit'"
       ]
      }
     ],
     "prompt_number": 1
    },
    {
     "cell_type": "code",
     "collapsed": false,
     "input": [
      "import sys\n",
      "print sys.version"
     ],
     "language": "python",
     "metadata": {},
     "outputs": [
      {
       "output_type": "stream",
       "stream": "stdout",
       "text": [
        "2.7.6 (default, Feb 24 2014, 09:53:59) \n",
        "[GCC 4.2.1 (Apple Inc. build 5666) (dot 3)]\n"
       ]
      }
     ],
     "prompt_number": 2
    },
    {
     "cell_type": "code",
     "collapsed": false,
     "input": [
      "import numpy\n",
      "numpy.__version__"
     ],
     "language": "python",
     "metadata": {},
     "outputs": [
      {
       "metadata": {},
       "output_type": "pyout",
       "prompt_number": 3,
       "text": [
        "'1.8.0'"
       ]
      }
     ],
     "prompt_number": 3
    },
    {
     "cell_type": "code",
     "collapsed": false,
     "input": [
      "%run test_mc_compute_stationary.py"
     ],
     "language": "python",
     "metadata": {},
     "outputs": [
      {
       "output_type": "stream",
       "stream": "stderr",
       "text": [
        "Elements in each row of P sum to one ... "
       ]
      },
      {
       "output_type": "stream",
       "stream": "stderr",
       "text": [
        "ok\n",
        "Elements of v sum to one ... "
       ]
      },
      {
       "output_type": "stream",
       "stream": "stderr",
       "text": [
        "ok\n",
        "All the elements of v are nonnegative ... "
       ]
      },
      {
       "output_type": "stream",
       "stream": "stderr",
       "text": [
        "FAIL\n",
        "v is a left eigen vector ... "
       ]
      },
      {
       "output_type": "stream",
       "stream": "stderr",
       "text": [
        "ok\n",
        "Elements in each row of P sum to one ... "
       ]
      },
      {
       "output_type": "stream",
       "stream": "stderr",
       "text": [
        "ok\n",
        "Elements of v sum to one ... "
       ]
      },
      {
       "output_type": "stream",
       "stream": "stderr",
       "text": [
        "ok\n",
        "All the elements of v are nonnegative ... "
       ]
      },
      {
       "output_type": "stream",
       "stream": "stderr",
       "text": [
        "FAIL\n",
        "v is a left eigen vector ... "
       ]
      },
      {
       "output_type": "stream",
       "stream": "stdout",
       "text": [
        "====\n",
        "Testing with prameter values set 0\n",
        "\n",
        "N = 27 , epsilon = 0.01 , move = sequential \n",
        "\n",
        "v =\n",
        "[ -1.88568573e-02  -2.55846807e-03  -1.67136105e-04  -6.99899937e-06\n",
        "  -2.11025107e-07  -4.87796717e-09  -8.98786730e-11  -1.35483738e-12\n",
        "  -1.69042488e-14  -6.39194809e-17  -7.40955589e-17  -8.55722397e-17\n",
        "  -9.85973897e-17  -1.13501133e-16  -1.30026937e-16  -1.49343124e-16\n",
        "  -1.71629892e-16  -1.21574765e-16   8.31176299e-15   8.05182291e-13\n",
        "   6.41140988e-11   4.25292338e-09   2.30817772e-07   9.98537756e-06\n",
        "   3.31181689e-04   7.90861874e-03   1.21062702e-01   8.92276953e-01] \n",
        "\n",
        "TOL = 0.01 \n",
        "\n",
        "====\n",
        "Testing with prameter values set 1\n",
        "\n",
        "N = 3 , epsilon = 1e-14 , move = sequential \n",
        "\n",
        "P =\n",
        "[[  1.00000000e+00   5.00000000e-15   0.00000000e+00   0.00000000e+00]\n",
        " [  3.33333333e-01   4.99600361e-15   6.66666667e-01   0.00000000e+00]\n",
        " [  0.00000000e+00   3.33333333e-15   6.66666667e-01   3.33333333e-01]\n",
        " [  0.00000000e+00   0.00000000e+00   5.00000000e-15   1.00000000e+00]] \n",
        "\n",
        "v =\n",
        "[ -1.14942529e-02  -8.51809045e-17   1.49066583e-14   1.01149425e+00] \n",
        "\n",
        "TOL = 0.01 \n",
        "\n",
        "===="
       ]
      },
      {
       "output_type": "stream",
       "stream": "stderr",
       "text": [
        "ok\n",
        "Elements in each row of P sum to one ... "
       ]
      },
      {
       "output_type": "stream",
       "stream": "stderr",
       "text": [
        "ok\n",
        "Elements of v sum to one ... "
       ]
      },
      {
       "output_type": "stream",
       "stream": "stderr",
       "text": [
        "ok\n",
        "All the elements of v are nonnegative ... "
       ]
      },
      {
       "output_type": "stream",
       "stream": "stderr",
       "text": [
        "FAIL\n",
        "v is a left eigen vector ... "
       ]
      },
      {
       "ename": "SystemExit",
       "evalue": "True",
       "output_type": "pyerr",
       "traceback": [
        "An exception has occurred, use %tb to see the full traceback.\n",
        "\u001b[0;31mSystemExit\u001b[0m\u001b[0;31m:\u001b[0m True\n"
       ]
      },
      {
       "output_type": "stream",
       "stream": "stdout",
       "text": [
        "\n",
        "Testing with prameter values set 2\n",
        "\n",
        "N = 5 , epsilon = 1e-15 , move = simultaneous \n",
        "\n",
        "P =\n",
        "[[  1.00000000e+00   2.50000000e-15   2.50000000e-30   1.25000000e-45\n",
        "    3.12500000e-61   3.12500000e-77]\n",
        " [  1.00000000e+00   2.50000000e-15   2.50000000e-30   1.25000000e-45\n",
        "    3.12500000e-61   3.12500000e-77]\n",
        " [  5.27109897e-77   4.74778387e-61   1.71056941e-45   3.08148791e-30\n",
        "    2.77555756e-15   1.00000000e+00]\n",
        " [  5.27109897e-77   4.74778387e-61   1.71056941e-45   3.08148791e-30\n",
        "    2.77555756e-15   1.00000000e+00]\n",
        " [  5.27109897e-77   4.74778387e-61   1.71056941e-45   3.08148791e-30\n",
        "    2.77555756e-15   1.00000000e+00]\n",
        " [  5.27109897e-77   4.74778387e-61   1.71056941e-45   3.08148791e-30\n",
        "    2.77555756e-15   1.00000000e+00]] \n",
        "\n",
        "v =\n",
        "[ -1.00000000e+00  -2.60902411e-15  -5.55111512e-17  -5.55111512e-17\n",
        "   5.49560397e-15   2.00000000e+00] \n",
        "\n",
        "TOL = 0.01 \n",
        "\n"
       ]
      },
      {
       "output_type": "stream",
       "stream": "stderr",
       "text": [
        "ok\n",
        "\n",
        "======================================================================\n",
        "FAIL: All the elements of v are nonnegative\n",
        "----------------------------------------------------------------------\n",
        "Traceback (most recent call last):\n",
        "  File \"/usr/local/Cellar/python/2.7.6/Frameworks/Python.framework/Versions/2.7/lib/python2.7/site-packages/nose/case.py\", line 197, in runTest\n",
        "    self.test(*self.arg)\n",
        "  File \"/Volumes/HD1/Users/oyama/Dropbox/documents/Teaching/Zemi/2014/test_mc_compute_stationary/test_mc_compute_stationary.py\", line 161, in __call__\n",
        "    eq_(np.prod(v >= 0-TOL), 1)\n",
        "AssertionError: 0 != 1\n",
        "\n",
        "======================================================================\n",
        "FAIL: All the elements of v are nonnegative\n",
        "----------------------------------------------------------------------\n",
        "Traceback (most recent call last):\n",
        "  File \"/usr/local/Cellar/python/2.7.6/Frameworks/Python.framework/Versions/2.7/lib/python2.7/site-packages/nose/case.py\", line 197, in runTest\n",
        "    self.test(*self.arg)\n",
        "  File \"/Volumes/HD1/Users/oyama/Dropbox/documents/Teaching/Zemi/2014/test_mc_compute_stationary/test_mc_compute_stationary.py\", line 161, in __call__\n",
        "    eq_(np.prod(v >= 0-TOL), 1)\n",
        "AssertionError: 0 != 1\n",
        "\n",
        "======================================================================\n",
        "FAIL: All the elements of v are nonnegative\n",
        "----------------------------------------------------------------------\n",
        "Traceback (most recent call last):\n",
        "  File \"/usr/local/Cellar/python/2.7.6/Frameworks/Python.framework/Versions/2.7/lib/python2.7/site-packages/nose/case.py\", line 197, in runTest\n",
        "    self.test(*self.arg)\n",
        "  File \"/Volumes/HD1/Users/oyama/Dropbox/documents/Teaching/Zemi/2014/test_mc_compute_stationary/test_mc_compute_stationary.py\", line 161, in __call__\n",
        "    eq_(np.prod(v >= 0-TOL), 1)\n",
        "AssertionError: 0 != 1\n",
        "\n",
        "----------------------------------------------------------------------\n",
        "Ran 12 tests in 0.068s\n",
        "\n",
        "FAILED (failures=3)\n"
       ]
      }
     ],
     "prompt_number": 4
    },
    {
     "cell_type": "code",
     "collapsed": false,
     "input": [],
     "language": "python",
     "metadata": {},
     "outputs": []
    }
   ],
   "metadata": {}
  }
 ]
}