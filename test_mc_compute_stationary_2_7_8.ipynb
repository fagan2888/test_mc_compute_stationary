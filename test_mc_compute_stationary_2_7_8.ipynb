{
 "metadata": {
  "name": ""
 },
 "nbformat": 3,
 "nbformat_minor": 0,
 "worksheets": [
  {
   "cells": [
    {
     "cell_type": "code",
     "collapsed": false,
     "input": [
      "import sys\n",
      "print sys.version"
     ],
     "language": "python",
     "metadata": {},
     "outputs": [
      {
       "output_type": "stream",
       "stream": "stdout",
       "text": [
        "2.7.8 (default, Jul  2 2014, 10:14:46) \n",
        "[GCC 4.2.1 Compatible Apple LLVM 5.1 (clang-503.0.40)]\n"
       ]
      }
     ],
     "prompt_number": 1
    },
    {
     "cell_type": "code",
     "collapsed": false,
     "input": [
      "import scipy\n",
      "scipy.__version__"
     ],
     "language": "python",
     "metadata": {},
     "outputs": [
      {
       "metadata": {},
       "output_type": "pyout",
       "prompt_number": 2,
       "text": [
        "'0.13.3'"
       ]
      }
     ],
     "prompt_number": 2
    },
    {
     "cell_type": "code",
     "collapsed": false,
     "input": [
      "# Default values: N=27, epsilon=1e-2, tolerance=1e-2\n",
      "%run test_mc_compute_stationary.py"
     ],
     "language": "python",
     "metadata": {},
     "outputs": [
      {
       "output_type": "stream",
       "stream": "stderr",
       "text": [
        "test_left_eigen_vec (__main__.TestComputeStationary) ... "
       ]
      },
      {
       "output_type": "stream",
       "stream": "stderr",
       "text": [
        "ok\n",
        "test_markov_matrix (__main__.TestComputeStationary) ... "
       ]
      },
      {
       "output_type": "stream",
       "stream": "stderr",
       "text": [
        "ok\n",
        "test_nonnegative (__main__.TestComputeStationary) ... "
       ]
      },
      {
       "output_type": "stream",
       "stream": "stderr",
       "text": [
        "FAIL\n",
        "test_sum_one (__main__.TestComputeStationary) ... "
       ]
      },
      {
       "output_type": "stream",
       "stream": "stdout",
       "text": [
        "N = 27 , epsilon = 0.01 \n",
        "\n",
        "v =\n",
        "[ -2.48255180e-02  -3.36828636e-03  -2.20038808e-04  -9.21435543e-06\n",
        "  -2.77819761e-07  -6.42196414e-09  -1.18327463e-10  -1.78366133e-12\n",
        "  -2.22487348e-14  -8.34484590e-17  -9.59425880e-17  -1.07363310e-16\n",
        "  -1.20471395e-16  -1.35327791e-16  -1.52499877e-16  -1.72571646e-16\n",
        "  -1.95756734e-16  -1.47184432e-16   8.34181730e-15   8.10541310e-13\n",
        "   6.45429448e-11   4.28137221e-09   2.32361769e-07   1.00521722e-05\n",
        "   3.33397045e-04   7.96152144e-03   1.21872520e-01   8.98245614e-01] \n",
        "\n",
        "TOL = 0.01 \n",
        "\n"
       ]
      },
      {
       "output_type": "stream",
       "stream": "stderr",
       "text": [
        "ok\n",
        "\n",
        "======================================================================\n",
        "FAIL: test_nonnegative (__main__.TestComputeStationary)\n",
        "----------------------------------------------------------------------\n",
        "Traceback (most recent call last):\n",
        "  File \"/Users/oyama/Dropbox/Documents/Teaching/Zemi/2014/test_mc_compute_stationary/test_mc_compute_stationary.py\", line 76, in test_nonnegative\n",
        "    self.assertEqual(np.prod(self.v >= 0-TOL), 1)\n",
        "AssertionError: 0 != 1\n",
        "\n",
        "----------------------------------------------------------------------\n",
        "Ran 4 tests in 0.002s\n",
        "\n",
        "FAILED (failures=1)\n"
       ]
      }
     ],
     "prompt_number": 3
    },
    {
     "cell_type": "code",
     "collapsed": false,
     "input": [
      "%run test_mc_compute_stationary.py --N 3 --epsilon 1e-14"
     ],
     "language": "python",
     "metadata": {},
     "outputs": [
      {
       "output_type": "stream",
       "stream": "stderr",
       "text": [
        "test_left_eigen_vec (__main__.TestComputeStationary) ... "
       ]
      },
      {
       "output_type": "stream",
       "stream": "stderr",
       "text": [
        "ok\n",
        "test_markov_matrix (__main__.TestComputeStationary) ... "
       ]
      },
      {
       "output_type": "stream",
       "stream": "stderr",
       "text": [
        "ok\n",
        "test_nonnegative (__main__.TestComputeStationary) ... "
       ]
      },
      {
       "output_type": "stream",
       "stream": "stderr",
       "text": [
        "FAIL\n",
        "test_sum_one (__main__.TestComputeStationary) ... "
       ]
      },
      {
       "output_type": "stream",
       "stream": "stdout",
       "text": [
        "N = 3 , epsilon = 1e-14 \n",
        "\n",
        "P =\n",
        "[[  1.00000000e+00   5.00000000e-15   0.00000000e+00   0.00000000e+00]\n",
        " [  3.33333333e-01   4.99600361e-15   6.66666667e-01   0.00000000e+00]\n",
        " [  0.00000000e+00   3.33333333e-15   6.66666667e-01   3.33333333e-01]\n",
        " [  0.00000000e+00   0.00000000e+00   5.00000000e-15   1.00000000e+00]] \n",
        "\n",
        "v =\n",
        "[ -1.14942529e-02  -8.51809045e-17   1.48233916e-14   1.01149425e+00] \n",
        "\n",
        "TOL = 0.01 \n",
        "\n"
       ]
      },
      {
       "output_type": "stream",
       "stream": "stderr",
       "text": [
        "ok\n",
        "\n",
        "======================================================================\n",
        "FAIL: test_nonnegative (__main__.TestComputeStationary)\n",
        "----------------------------------------------------------------------\n",
        "Traceback (most recent call last):\n",
        "  File \"/Users/oyama/Dropbox/Documents/Teaching/Zemi/2014/test_mc_compute_stationary/test_mc_compute_stationary.py\", line 76, in test_nonnegative\n",
        "    self.assertEqual(np.prod(self.v >= 0-TOL), 1)\n",
        "AssertionError: 0 != 1\n",
        "\n",
        "----------------------------------------------------------------------\n",
        "Ran 4 tests in 0.002s\n",
        "\n",
        "FAILED (failures=1)\n"
       ]
      }
     ],
     "prompt_number": 4
    },
    {
     "cell_type": "code",
     "collapsed": false,
     "input": [],
     "language": "python",
     "metadata": {},
     "outputs": [],
     "prompt_number": 4
    }
   ],
   "metadata": {}
  }
 ]
}