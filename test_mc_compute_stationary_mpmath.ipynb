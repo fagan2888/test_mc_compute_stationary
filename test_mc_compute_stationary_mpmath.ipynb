{
 "metadata": {
  "name": "",
  "signature": "sha256:f32db0e5462692d32c523a046b21e3ed1028238a6d317e7ae3f3aeb2fe3ed4b7"
 },
 "nbformat": 3,
 "nbformat_minor": 0,
 "worksheets": [
  {
   "cells": [
    {
     "cell_type": "code",
     "collapsed": false,
     "input": [
      "import platform\n",
      "print platform.platform()"
     ],
     "language": "python",
     "metadata": {},
     "outputs": [
      {
       "output_type": "stream",
       "stream": "stdout",
       "text": [
        "Darwin-13.3.0-x86_64-i386-64bit\n"
       ]
      }
     ],
     "prompt_number": 1
    },
    {
     "cell_type": "code",
     "collapsed": false,
     "input": [
      "import sys\n",
      "print sys.version"
     ],
     "language": "python",
     "metadata": {},
     "outputs": [
      {
       "output_type": "stream",
       "stream": "stdout",
       "text": [
        "2.7.8 (default, Jul  2 2014, 10:14:46) \n",
        "[GCC 4.2.1 Compatible Apple LLVM 5.1 (clang-503.0.40)]\n"
       ]
      }
     ],
     "prompt_number": 2
    },
    {
     "cell_type": "code",
     "collapsed": false,
     "input": [
      "import numpy\n",
      "print numpy.__version__"
     ],
     "language": "python",
     "metadata": {},
     "outputs": [
      {
       "output_type": "stream",
       "stream": "stdout",
       "text": [
        "1.8.1\n"
       ]
      }
     ],
     "prompt_number": 3
    },
    {
     "cell_type": "code",
     "collapsed": false,
     "input": [
      "%run test_mc_compute_stationary_mpmath.py"
     ],
     "language": "python",
     "metadata": {},
     "outputs": [
      {
       "output_type": "stream",
       "stream": "stderr",
       "text": [
        "Elements in each row of P sum to one ... "
       ]
      },
      {
       "output_type": "stream",
       "stream": "stderr",
       "text": [
        "ok\n",
        "Elements of v sum to one ... "
       ]
      },
      {
       "output_type": "stream",
       "stream": "stderr",
       "text": [
        "ok\n",
        "All the elements of v are nonnegative ... "
       ]
      },
      {
       "output_type": "stream",
       "stream": "stderr",
       "text": [
        "ok\n",
        "v is a left eigen vector ... "
       ]
      },
      {
       "output_type": "stream",
       "stream": "stdout",
       "text": [
        "====\n",
        "Testing with prameter values set 0\n",
        "\n",
        "N = 27 , epsilon = 0.01 , move = sequential \n",
        "\n",
        "v (converted to numpy.float) =\n",
        "[  1.78067089e-21   2.41598563e-22   1.57828207e-23   6.60922140e-25\n",
        "   1.99273007e-26   4.60631072e-28   8.48733971e-30   1.27949877e-31\n",
        "   1.60743862e-33   1.70776649e-35   6.12168837e-33   1.88270135e-30\n",
        "   4.99543428e-28   1.14702856e-25   2.28258684e-23   3.93670144e-21\n",
        "   5.87552690e-19   7.56560493e-17   8.36419656e-15   7.88435581e-13\n",
        "   6.27594722e-11   4.16304499e-09   2.25939806e-07   9.77435246e-06\n",
        "   3.24182690e-04   7.74148263e-03   1.18504234e-01   8.73420096e-01] \n",
        "\n",
        "TOL = 1e-17 \n",
        "\n",
        "===="
       ]
      },
      {
       "output_type": "stream",
       "stream": "stderr",
       "text": [
        "ok\n",
        "Elements in each row of P sum to one ... "
       ]
      },
      {
       "output_type": "stream",
       "stream": "stderr",
       "text": [
        "ok\n",
        "Elements of v sum to one ... "
       ]
      },
      {
       "output_type": "stream",
       "stream": "stderr",
       "text": [
        "ok\n",
        "All the elements of v are nonnegative ... "
       ]
      },
      {
       "output_type": "stream",
       "stream": "stderr",
       "text": [
        "ok\n",
        "v is a left eigen vector ... "
       ]
      },
      {
       "output_type": "stream",
       "stream": "stderr",
       "text": [
        "ok\n",
        "Elements in each row of P sum to one ... "
       ]
      },
      {
       "output_type": "stream",
       "stream": "stderr",
       "text": [
        "ok\n",
        "Elements of v sum to one ... "
       ]
      },
      {
       "output_type": "stream",
       "stream": "stderr",
       "text": [
        "ok\n",
        "All the elements of v are nonnegative ... "
       ]
      },
      {
       "output_type": "stream",
       "stream": "stderr",
       "text": [
        "ok\n",
        "v is a left eigen vector ... "
       ]
      },
      {
       "output_type": "stream",
       "stream": "stdout",
       "text": [
        "\n",
        "Testing with prameter values set 1\n",
        "\n",
        "N = 3 , epsilon = 1e-14 , move = sequential \n",
        "\n",
        "P =\n",
        "[[  1.00000000e+00   5.00000000e-15   0.00000000e+00   0.00000000e+00]\n",
        " [  3.33333333e-01   4.99600361e-15   6.66666667e-01   0.00000000e+00]\n",
        " [  0.00000000e+00   3.33333333e-15   6.66666667e-01   3.33333333e-01]\n",
        " [  0.00000000e+00   0.00000000e+00   5.00000000e-15   1.00000000e+00]] \n",
        "\n",
        "v (converted to numpy.float) =\n",
        "[  5.00079054e-15   7.50039527e-29   1.50000000e-14   1.00000000e+00] \n",
        "\n",
        "TOL = 1e-17 \n",
        "\n",
        "====\n",
        "Testing with prameter values set 2\n",
        "\n",
        "N = 5 , epsilon = 1e-15 , move = simultaneous \n",
        "\n",
        "P =\n",
        "[[  1.00000000e+00   2.50000000e-15   2.50000000e-30   1.25000000e-45\n",
        "    3.12500000e-61   3.12500000e-77]\n",
        " [  1.00000000e+00   2.50000000e-15   2.50000000e-30   1.25000000e-45\n",
        "    3.12500000e-61   3.12500000e-77]\n",
        " [  5.27109897e-77   4.74778387e-61   1.71056941e-45   3.08148791e-30\n",
        "    2.77555756e-15   1.00000000e+00]\n",
        " [  5.27109897e-77   4.74778387e-61   1.71056941e-45   3.08148791e-30\n",
        "    2.77555756e-15   1.00000000e+00]\n",
        " [  5.27109897e-77   4.74778387e-61   1.71056941e-45   3.08148791e-30\n",
        "    2.77555756e-15   1.00000000e+00]\n",
        " [  5.27109897e-77   4.74778387e-61   1.71056941e-45   3.08148791e-30\n",
        "    2.77555756e-15   1.00000000e+00]] \n",
        "\n",
        "v (converted to numpy.float) =\n",
        "[  5.27109897e-77   4.74778387e-61   1.71056941e-45   3.08148791e-30\n",
        "   2.77555756e-15   1.00000000e+00] \n",
        "\n",
        "TOL = 1e-17 \n",
        "\n"
       ]
      },
      {
       "output_type": "stream",
       "stream": "stderr",
       "text": [
        "ok\n",
        "\n",
        "----------------------------------------------------------------------\n",
        "Ran 12 tests in 3.532s\n",
        "\n",
        "OK\n"
       ]
      }
     ],
     "prompt_number": 4
    },
    {
     "cell_type": "code",
     "collapsed": false,
     "input": [
      "import mpmath\n",
      "print mpmath.__version__"
     ],
     "language": "python",
     "metadata": {},
     "outputs": [
      {
       "output_type": "stream",
       "stream": "stdout",
       "text": [
        "0.19\n"
       ]
      }
     ],
     "prompt_number": 5
    }
   ],
   "metadata": {}
  }
 ]
}